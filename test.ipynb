{
 "cells": [
  {
   "cell_type": "code",
   "execution_count": 1,
   "metadata": {},
   "outputs": [
    {
     "name": "stdout",
     "output_type": "stream",
     "text": [
      "27.338662451276292 2.0069457520439182\n",
      "22.681737665408335 2.0032214657492595\n"
     ]
    }
   ],
   "source": [
    "from scipy import stats\n",
    "import numpy as np\n",
    "\n",
    "# Define the likelihood function with head-to-head match outcomes\n",
    "def likelihood(mu_1, mu_2, sigma_1_squared, sigma_2_squared, matches_won_1, matches_won_2):\n",
    "    prob_win = stats.norm.cdf((mu_1 - mu_2) / np.sqrt(sigma_1_squared + sigma_2_squared))\n",
    "    \n",
    "    # Calculate the expected win probability based on skills\n",
    "    expected_prob = prob_win\n",
    "    \n",
    "    # Calculate the observed win probability as a binomial distribution\n",
    "    observed_prob = stats.binom.pmf(matches_won_1, matches_won_1 + matches_won_2, expected_prob)\n",
    "    \n",
    "    return observed_prob\n",
    "\n",
    "\n",
    "# Define the prior function for skills (mu) with normal distribution\n",
    "def prior(mu, prior_mean, prior_std):\n",
    "    return stats.norm.pdf(mu, prior_mean, prior_std)\n",
    "\n",
    "# Compute the acceptance ratio\n",
    "def acceptance_ratio(mu_1, mu_2, sigma_1_squared, sigma_2_squared, mu_1_new, mu_2_new, matches_1, matches_2):\n",
    "    prior_ratio = (prior(mu_1_new, prior_mu_1_mean, prior_mu_1_std) * prior(mu_2_new, prior_mu_2_mean, prior_mu_2_std)) / \\\n",
    "                  (prior(mu_1, prior_mu_1_mean, prior_mu_1_std) * prior(mu_2, prior_mu_2_mean, prior_mu_2_std))\n",
    "    likelihood_ratio = likelihood(mu_1_new, mu_2_new, sigma_1_squared, sigma_2_squared, matches_1, matches_2) / \\\n",
    "                       likelihood(mu_1, mu_2, sigma_1_squared, sigma_2_squared, matches_1, matches_2)\n",
    "    return min(1, prior_ratio * likelihood_ratio)\n",
    "\n",
    "# Define prior distributions for mu_1, mu_2, sigma_1^2, and sigma_2^2\n",
    "prior_mu_1_mean = 25  # Prior mean for player/team 1 skill\n",
    "prior_mu_1_std = 4    # Prior standard deviation for player/team 1 skill\n",
    "\n",
    "prior_mu_2_mean = 25  # Prior mean for player/team 2 skill\n",
    "prior_mu_2_std = 4    # Prior standard deviation for player/team 2 skill\n",
    "\n",
    "prior_sigma_1_squared = 5  # Prior variance for player/team 1 skill\n",
    "prior_sigma_2_squared = 5  # Prior variance for player/team 2 skill\n",
    "\n",
    "# Initialize values\n",
    "mu_1 = np.random.normal(prior_mu_1_mean, prior_mu_1_std)\n",
    "mu_2 = np.random.normal(prior_mu_2_mean, prior_mu_2_std)\n",
    "\n",
    "sigma_1_squared = prior_sigma_1_squared\n",
    "sigma_2_squared = prior_sigma_2_squared\n",
    "\n",
    "matches_won_team_1 = 200  # Number of matches won by Team 1 against Team 2\n",
    "matches_won_team_2 = 15  # Number of matches won by Team 2 against Team 1\n",
    "\n",
    "results_mu_1 = []\n",
    "results_mu_2 = []\n",
    "\n",
    "# MCMC parameters\n",
    "n_samples = 50000\n",
    "burn_in = 5000\n",
    "lag = 5\n",
    "\n",
    "# Create the MCMC loop\n",
    "for i in range(n_samples):\n",
    "    # Propose new values of mu_1 and mu_2 from their prior distributions\n",
    "    mu_1_new = np.random.normal(prior_mu_1_mean, prior_mu_1_std)\n",
    "    mu_2_new = np.random.normal(prior_mu_2_mean, prior_mu_2_std)\n",
    "    \n",
    "    # Compute acceptance probability using the new proposed values\n",
    "    R = acceptance_ratio(mu_1, mu_2, sigma_1_squared, sigma_2_squared, mu_1_new, mu_2_new, matches_won_team_1, matches_won_team_2)\n",
    "    \n",
    "    # Draw random sample to compare R to\n",
    "    u = np.random.random_sample()\n",
    "    \n",
    "    # If R is greater than u, accept the new values of mu_1 and mu_2\n",
    "    if u < R:\n",
    "        mu_1 = mu_1_new\n",
    "        mu_2 = mu_2_new\n",
    "    \n",
    "    # Record values after burn in - how often determined by lag\n",
    "    if i > burn_in and i % lag == 0:\n",
    "        results_mu_1.append(mu_1)\n",
    "        results_mu_2.append(mu_2)\n",
    "\n",
    "# Results represent samples from the posterior distribution of skills for both players/teams\n",
    "print(np.mean(results_mu_1), np.var(results_mu_1)**0.5)\n",
    "print(np.mean(results_mu_2), np.var(results_mu_2)**0.5)\n",
    "\n"
   ]
  },
  {
   "cell_type": "code",
   "execution_count": 3,
   "metadata": {},
   "outputs": [
    {
     "data": {
      "image/png": "[encoded data removed]",
      "text/plain": [
       "<Figure size 640x480 with 1 Axes>"
      ]
     },
     "metadata": {},
     "output_type": "display_data"
    }
   ],
   "source": [
    "import matplotlib.pyplot as plt\n",
    "\n",
    "plt.hist(results_mu_1, bins = 100)\n",
    "plt.show()"
   ]
  },
  {
   "cell_type": "code",
   "execution_count": null,
   "metadata": {},
   "outputs": [],
   "source": []
  }
 ],
 "metadata": {
  "kernelspec": {
   "display_name": "venv",
   "language": "python",
   "name": "python3"
  },
  "language_info": {
   "codemirror_mode": {
    "name": "ipython",
    "version": 3
   },
   "file_extension": ".py",
   "mimetype": "text/x-python",
   "name": "python",
   "nbconvert_exporter": "python",
   "pygments_lexer": "ipython3",
   "version": "3.9.6"
  }
 },
 "nbformat": 4,
 "nbformat_minor": 2
}
